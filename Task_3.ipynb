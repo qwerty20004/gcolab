{
  "cells": [
    {
      "cell_type": "markdown",
      "metadata": {
        "id": "view-in-github",
        "colab_type": "text"
      },
      "source": [
        "<a href=\"https://colab.research.google.com/github/qwerty20004/gcolab/blob/main/Task_3.ipynb\" target=\"_parent\"><img src=\"https://colab.research.google.com/assets/colab-badge.svg\" alt=\"Open In Colab\"/></a>"
      ]
    },
    {
      "cell_type": "code",
      "execution_count": null,
      "metadata": {
        "colab": {
          "base_uri": "https://localhost:8080/"
        },
        "id": "pZtwg6D9kMtY",
        "outputId": "e4c0f4a1-c7cd-4266-beae-a00ccde8c114"
      },
      "outputs": [
        {
          "name": "stdout",
          "output_type": "stream",
          "text": [
            "Temperature at time 5 hours: 16\n"
          ]
        }
      ],
      "source": [
        "# Hardcoding the coefficients and time\n",
        "a, b, c = 1, -2, 1  # Coefficients for the quadratic equation\n",
        "time = 5  # Time in hours\n",
        "temperature = a * time**2 + b * time + c\n",
        "print(f\"Temperature at time {time} hours: {temperature}\")\n"
      ]
    },
    {
      "cell_type": "code",
      "execution_count": null,
      "metadata": {
        "colab": {
          "base_uri": "https://localhost:8080/"
        },
        "id": "SRn-7GToku_L",
        "outputId": "e9a9d1b7-dfd7-4d65-c7c3-53a0bb922819"
      },
      "outputs": [
        {
          "name": "stdout",
          "output_type": "stream",
          "text": [
            "Enter coefficient a: 1\n",
            "Enter coefficient b: 2\n",
            "Enter coefficient c: 3\n",
            "Enter time in hours: 4\n",
            "Temperature at time 4.0 hours: 27.0\n"
          ]
        }
      ],
      "source": [
        "# Accepting coefficients and time from the user\n",
        "a = float(input(\"Enter coefficient a: \"))\n",
        "b = float(input(\"Enter coefficient b: \"))\n",
        "c = float(input(\"Enter coefficient c: \"))\n",
        "time = float(input(\"Enter time in hours: \"))\n",
        "temperature = a * time**2 + b * time + c\n",
        "print(f\"Temperature at time {time} hours: {temperature}\")\n"
      ]
    },
    {
      "cell_type": "code",
      "execution_count": 6,
      "metadata": {
        "colab": {
          "base_uri": "https://localhost:8080/"
        },
        "id": "SiFuuXoUlj_b",
        "outputId": "24a089ea-80eb-438a-ffd6-70912bb1d103"
      },
      "outputs": [
        {
          "output_type": "stream",
          "name": "stdout",
          "text": [
            "Drive already mounted at /content/drive; to attempt to forcibly remount, call drive.mount(\"/content/drive\", force_remount=True).\n"
          ]
        }
      ],
      "source": [
        "from google.colab import drive\n",
        "drive.mount('/content/drive')\n"
      ]
    },
    {
      "cell_type": "code",
      "execution_count": 8,
      "metadata": {
        "colab": {
          "base_uri": "https://localhost:8080/"
        },
        "id": "wWgzQfAslrCd",
        "outputId": "a2658f86-3122-4dfd-c628-3f427f2cdc21"
      },
      "outputs": [
        {
          "output_type": "stream",
          "name": "stdout",
          "text": [
            "Temperature at time 5.0 hours: 16.0\n"
          ]
        }
      ],
      "source": [
        "# Reading a single set of coefficients from a file\n",
        "with open('single_input.txt', 'r') as file:\n",
        "    line = file.readline()\n",
        "    a, b, c, time = map(float, line.split(','))\n",
        "    temperature = a * time**2 + b * time + c\n",
        "    print(f\"Temperature at time {time} hours: {temperature}\")\n"
      ]
    },
    {
      "cell_type": "code",
      "source": [
        "# Reading multiple sets of coefficients from a file\n",
        "with open('multiple_inputs.txt', 'r') as file:\n",
        "    for line in file:\n",
        "        a, b, c, time = map(float, line.split(','))\n",
        "        temperature = a * time**2 + b * time + c\n",
        "        print(f\"Temperature at time {time} hours: {temperature}\")\n"
      ],
      "metadata": {
        "colab": {
          "base_uri": "https://localhost:8080/"
        },
        "id": "z30zd1g5mx2m",
        "outputId": "be844fbb-52eb-4147-a217-32922778d310"
      },
      "execution_count": 9,
      "outputs": [
        {
          "output_type": "stream",
          "name": "stdout",
          "text": [
            "Temperature at time 5.0 hours: 16.0\n",
            "Temperature at time 10.0 hours: 197.0\n",
            "Temperature at time 3.0 hours: 5.0\n"
          ]
        }
      ]
    },
    {
      "cell_type": "code",
      "source": [
        "try:\n",
        "    with open('multiple_inputs.txt', 'r') as file:\n",
        "        data = file.read()\n",
        "except FileNotFoundError:\n",
        "    print(\"Error: The specified file does not exist.\")\n"
      ],
      "metadata": {
        "id": "3VHu1z7wnNBU"
      },
      "execution_count": 11,
      "outputs": []
    },
    {
      "cell_type": "code",
      "source": [
        "try:\n",
        "    with open('single_input.txt', 'r') as file:\n",
        "        data = file.read()\n",
        "except FileNotFoundError:\n",
        "    print(\"Error: The specified file does not exist.\")\n"
      ],
      "metadata": {
        "id": "i9x0dwwGnlaj"
      },
      "execution_count": 12,
      "outputs": []
    },
    {
      "cell_type": "code",
      "source": [
        "try:\n",
        "    a, b, c, time = map(float, line.split(','))\n",
        "except ValueError:\n",
        "    print(\"Error: Input data is not in the correct format. Expected: a,b,c,time\")\n"
      ],
      "metadata": {
        "id": "F21cOV5kntEq"
      },
      "execution_count": 13,
      "outputs": []
    }
  ],
  "metadata": {
    "colab": {
      "provenance": [],
      "authorship_tag": "ABX9TyONWtVXFPG2vjYk5gOyG5Ps",
      "include_colab_link": true
    },
    "kernelspec": {
      "display_name": "Python 3",
      "name": "python3"
    },
    "language_info": {
      "name": "python"
    }
  },
  "nbformat": 4,
  "nbformat_minor": 0
}