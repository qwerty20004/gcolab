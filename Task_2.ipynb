{
  "nbformat": 4,
  "nbformat_minor": 0,
  "metadata": {
    "colab": {
      "provenance": [],
      "authorship_tag": "ABX9TyMy+7CYVJwXa+6n7HzXDl8Z",
      "include_colab_link": true
    },
    "kernelspec": {
      "name": "python3",
      "display_name": "Python 3"
    },
    "language_info": {
      "name": "python"
    }
  },
  "cells": [
    {
      "cell_type": "markdown",
      "metadata": {
        "id": "view-in-github",
        "colab_type": "text"
      },
      "source": [
        "<a href=\"https://colab.research.google.com/github/qwerty20004/gcolab/blob/main/Task_2.ipynb\" target=\"_parent\"><img src=\"https://colab.research.google.com/assets/colab-badge.svg\" alt=\"Open In Colab\"/></a>"
      ]
    },
    {
      "cell_type": "code",
      "execution_count": 1,
      "metadata": {
        "colab": {
          "base_uri": "https://localhost:8080/"
        },
        "id": "YnJdPTIzpNm_",
        "outputId": "1d5281d5-b6ae-47ea-ba17-328288172de7"
      },
      "outputs": [
        {
          "output_type": "stream",
          "name": "stdout",
          "text": [
            "Mounted at /content/drive\n"
          ]
        }
      ],
      "source": [
        "from google.colab import drive\n",
        "drive.mount('/content/drive')\n"
      ]
    },
    {
      "cell_type": "code",
      "source": [
        "# Hardcoded Variables\n",
        "name = \"Alice\"\n",
        "age = 25\n",
        "print(f\"Name: {name}, Age: {age}\")\n"
      ],
      "metadata": {
        "colab": {
          "base_uri": "https://localhost:8080/"
        },
        "id": "XRWhmf1EqViX",
        "outputId": "8d30027b-2454-4bfa-db57-2c42af255ac7"
      },
      "execution_count": 2,
      "outputs": [
        {
          "output_type": "stream",
          "name": "stdout",
          "text": [
            "Name: Alice, Age: 25\n"
          ]
        }
      ]
    },
    {
      "cell_type": "code",
      "source": [
        "# Keyboard Input\n",
        "user_name = input(\"Enter your name: \")\n",
        "user_age = int(input(\"Enter your age: \"))\n",
        "print(f\"Hello {user_name}, you are {user_age} years old.\")\n"
      ],
      "metadata": {
        "colab": {
          "base_uri": "https://localhost:8080/"
        },
        "id": "dNREuBA0rGwW",
        "outputId": "b31ca0c2-45df-49c3-a742-ee168514db47"
      },
      "execution_count": 3,
      "outputs": [
        {
          "output_type": "stream",
          "name": "stdout",
          "text": [
            "Enter your name: Sai Ganesh\n",
            "Enter your age: 20\n",
            "Hello Sai Ganesh, you are 20 years old.\n"
          ]
        }
      ]
    },
    {
      "cell_type": "code",
      "source": [
        "# Read Single Input From File\n",
        "with open('/content/drive/MyDrive/input.txt', 'r') as file:\n",
        "    data = file.read()\n",
        "    print(f\"File Content: {data}\")\n"
      ],
      "metadata": {
        "colab": {
          "base_uri": "https://localhost:8080/"
        },
        "id": "ssiMLx8esGhD",
        "outputId": "19c93cfb-b3c1-41a2-c9f9-92056b11d4cd"
      },
      "execution_count": 4,
      "outputs": [
        {
          "output_type": "stream",
          "name": "stdout",
          "text": [
            "File Content: Hello, World!\n"
          ]
        }
      ]
    },
    {
      "cell_type": "code",
      "source": [
        "# Read Multiple Inputs From File\n",
        "with open('/content/drive/MyDrive/inputs.txt', 'r') as file:\n",
        "    for line in file:\n",
        "        name, age = line.strip().split(',')\n",
        "        print(f\"Name: {name}, Age: {age}\")\n"
      ],
      "metadata": {
        "colab": {
          "base_uri": "https://localhost:8080/"
        },
        "id": "mWEDFqDPspaF",
        "outputId": "5ced2356-bbfa-4ffc-f5ce-1be39e92d30a"
      },
      "execution_count": 5,
      "outputs": [
        {
          "output_type": "stream",
          "name": "stdout",
          "text": [
            "Name: Alice, Age: 25\n",
            "Name: Bob, Age: 30\n",
            "Name: Charlie, Age: 35\n"
          ]
        }
      ]
    },
    {
      "cell_type": "code",
      "source": [
        "# Debugging and Error Handling\n",
        "try:\n",
        "    with open('/content/drive/MyDrive/input.txt', 'r') as file:\n",
        "        data = file.read()\n",
        "        print(data)\n",
        "except FileNotFoundError:\n",
        "    print(\"Error: File not found.\")\n",
        "except ValueError:\n",
        "    print(\"Error: Incorrect input format.\")\n"
      ],
      "metadata": {
        "colab": {
          "base_uri": "https://localhost:8080/"
        },
        "id": "tvsWMDnLtdbT",
        "outputId": "222b1b25-3c52-4e4f-8b91-69fd2bfff967"
      },
      "execution_count": 6,
      "outputs": [
        {
          "output_type": "stream",
          "name": "stdout",
          "text": [
            "Hello, World!\n"
          ]
        }
      ]
    },
    {
      "cell_type": "code",
      "source": [
        "# Debugging and Error Handling\n",
        "try:\n",
        "    with open('/content/drive/MyDrive/inputs.txt', 'r') as file:\n",
        "        data = file.read()\n",
        "        print(data)\n",
        "except FileNotFoundError:\n",
        "    print(\"Error: File not found.\")\n",
        "except ValueError:\n",
        "    print(\"Error: Incorrect input format.\")\n"
      ],
      "metadata": {
        "colab": {
          "base_uri": "https://localhost:8080/"
        },
        "id": "8vxNQxSgthZK",
        "outputId": "611dbe26-f2b5-481c-8f7c-c03cf7968d7e"
      },
      "execution_count": 7,
      "outputs": [
        {
          "output_type": "stream",
          "name": "stdout",
          "text": [
            "Alice,25  \n",
            "Bob,30  \n",
            "Charlie,35\n"
          ]
        }
      ]
    }
  ]
}